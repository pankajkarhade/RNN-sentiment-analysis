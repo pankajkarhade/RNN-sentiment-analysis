{
 "cells": [
  {
   "cell_type": "code",
   "execution_count": 25,
   "id": "7cecaa5e",
   "metadata": {},
   "outputs": [],
   "source": [
    "## step 1: import all library and load the model\n",
    "import numpy as np\n",
    "import tensorflow as tf\n",
    "from tensorflow.keras.datasets import imdb\n",
    "from tensorflow.keras.preprocessing import sequence\n",
    "from tensorflow.keras.models import load_model"
   ]
  },
  {
   "cell_type": "code",
   "execution_count": 26,
   "id": "99edf47f",
   "metadata": {},
   "outputs": [],
   "source": [
    "# load the imdb dataset word index\n",
    "word_index = imdb.get_word_index()\n",
    "reverse_word_index = {value: key for key, value in word_index.items() }"
   ]
  },
  {
   "cell_type": "code",
   "execution_count": 27,
   "id": "1fefd54c",
   "metadata": {},
   "outputs": [
    {
     "name": "stderr",
     "output_type": "stream",
     "text": [
      "WARNING:absl:Compiled the loaded model, but the compiled metrics have yet to be built. `model.compile_metrics` will be empty until you train or evaluate the model.\n"
     ]
    },
    {
     "data": {
      "text/html": [
       "<pre style=\"white-space:pre;overflow-x:auto;line-height:normal;font-family:Menlo,'DejaVu Sans Mono',consolas,'Courier New',monospace\"><span style=\"font-weight: bold\">Model: \"sequential_3\"</span>\n",
       "</pre>\n"
      ],
      "text/plain": [
       "\u001b[1mModel: \"sequential_3\"\u001b[0m\n"
      ]
     },
     "metadata": {},
     "output_type": "display_data"
    },
    {
     "data": {
      "text/html": [
       "<pre style=\"white-space:pre;overflow-x:auto;line-height:normal;font-family:Menlo,'DejaVu Sans Mono',consolas,'Courier New',monospace\">┏━━━━━━━━━━━━━━━━━━━━━━━━━━━━━━━━━┳━━━━━━━━━━━━━━━━━━━━━━━━┳━━━━━━━━━━━━━━━┓\n",
       "┃<span style=\"font-weight: bold\"> Layer (type)                    </span>┃<span style=\"font-weight: bold\"> Output Shape           </span>┃<span style=\"font-weight: bold\">       Param # </span>┃\n",
       "┡━━━━━━━━━━━━━━━━━━━━━━━━━━━━━━━━━╇━━━━━━━━━━━━━━━━━━━━━━━━╇━━━━━━━━━━━━━━━┩\n",
       "│ embedding_3 (<span style=\"color: #0087ff; text-decoration-color: #0087ff\">Embedding</span>)         │ (<span style=\"color: #00d7ff; text-decoration-color: #00d7ff\">None</span>, <span style=\"color: #00af00; text-decoration-color: #00af00\">8</span>, <span style=\"color: #00af00; text-decoration-color: #00af00\">128</span>)         │     <span style=\"color: #00af00; text-decoration-color: #00af00\">1,280,000</span> │\n",
       "├─────────────────────────────────┼────────────────────────┼───────────────┤\n",
       "│ simple_rnn_1 (<span style=\"color: #0087ff; text-decoration-color: #0087ff\">SimpleRNN</span>)        │ (<span style=\"color: #00d7ff; text-decoration-color: #00d7ff\">None</span>, <span style=\"color: #00af00; text-decoration-color: #00af00\">128</span>)            │        <span style=\"color: #00af00; text-decoration-color: #00af00\">32,896</span> │\n",
       "├─────────────────────────────────┼────────────────────────┼───────────────┤\n",
       "│ dense_1 (<span style=\"color: #0087ff; text-decoration-color: #0087ff\">Dense</span>)                 │ (<span style=\"color: #00d7ff; text-decoration-color: #00d7ff\">None</span>, <span style=\"color: #00af00; text-decoration-color: #00af00\">1</span>)              │           <span style=\"color: #00af00; text-decoration-color: #00af00\">129</span> │\n",
       "└─────────────────────────────────┴────────────────────────┴───────────────┘\n",
       "</pre>\n"
      ],
      "text/plain": [
       "┏━━━━━━━━━━━━━━━━━━━━━━━━━━━━━━━━━┳━━━━━━━━━━━━━━━━━━━━━━━━┳━━━━━━━━━━━━━━━┓\n",
       "┃\u001b[1m \u001b[0m\u001b[1mLayer (type)                   \u001b[0m\u001b[1m \u001b[0m┃\u001b[1m \u001b[0m\u001b[1mOutput Shape          \u001b[0m\u001b[1m \u001b[0m┃\u001b[1m \u001b[0m\u001b[1m      Param #\u001b[0m\u001b[1m \u001b[0m┃\n",
       "┡━━━━━━━━━━━━━━━━━━━━━━━━━━━━━━━━━╇━━━━━━━━━━━━━━━━━━━━━━━━╇━━━━━━━━━━━━━━━┩\n",
       "│ embedding_3 (\u001b[38;5;33mEmbedding\u001b[0m)         │ (\u001b[38;5;45mNone\u001b[0m, \u001b[38;5;34m8\u001b[0m, \u001b[38;5;34m128\u001b[0m)         │     \u001b[38;5;34m1,280,000\u001b[0m │\n",
       "├─────────────────────────────────┼────────────────────────┼───────────────┤\n",
       "│ simple_rnn_1 (\u001b[38;5;33mSimpleRNN\u001b[0m)        │ (\u001b[38;5;45mNone\u001b[0m, \u001b[38;5;34m128\u001b[0m)            │        \u001b[38;5;34m32,896\u001b[0m │\n",
       "├─────────────────────────────────┼────────────────────────┼───────────────┤\n",
       "│ dense_1 (\u001b[38;5;33mDense\u001b[0m)                 │ (\u001b[38;5;45mNone\u001b[0m, \u001b[38;5;34m1\u001b[0m)              │           \u001b[38;5;34m129\u001b[0m │\n",
       "└─────────────────────────────────┴────────────────────────┴───────────────┘\n"
      ]
     },
     "metadata": {},
     "output_type": "display_data"
    },
    {
     "data": {
      "text/html": [
       "<pre style=\"white-space:pre;overflow-x:auto;line-height:normal;font-family:Menlo,'DejaVu Sans Mono',consolas,'Courier New',monospace\"><span style=\"font-weight: bold\"> Total params: </span><span style=\"color: #00af00; text-decoration-color: #00af00\">1,313,027</span> (5.01 MB)\n",
       "</pre>\n"
      ],
      "text/plain": [
       "\u001b[1m Total params: \u001b[0m\u001b[38;5;34m1,313,027\u001b[0m (5.01 MB)\n"
      ]
     },
     "metadata": {},
     "output_type": "display_data"
    },
    {
     "data": {
      "text/html": [
       "<pre style=\"white-space:pre;overflow-x:auto;line-height:normal;font-family:Menlo,'DejaVu Sans Mono',consolas,'Courier New',monospace\"><span style=\"font-weight: bold\"> Trainable params: </span><span style=\"color: #00af00; text-decoration-color: #00af00\">1,313,025</span> (5.01 MB)\n",
       "</pre>\n"
      ],
      "text/plain": [
       "\u001b[1m Trainable params: \u001b[0m\u001b[38;5;34m1,313,025\u001b[0m (5.01 MB)\n"
      ]
     },
     "metadata": {},
     "output_type": "display_data"
    },
    {
     "data": {
      "text/html": [
       "<pre style=\"white-space:pre;overflow-x:auto;line-height:normal;font-family:Menlo,'DejaVu Sans Mono',consolas,'Courier New',monospace\"><span style=\"font-weight: bold\"> Non-trainable params: </span><span style=\"color: #00af00; text-decoration-color: #00af00\">0</span> (0.00 B)\n",
       "</pre>\n"
      ],
      "text/plain": [
       "\u001b[1m Non-trainable params: \u001b[0m\u001b[38;5;34m0\u001b[0m (0.00 B)\n"
      ]
     },
     "metadata": {},
     "output_type": "display_data"
    },
    {
     "data": {
      "text/html": [
       "<pre style=\"white-space:pre;overflow-x:auto;line-height:normal;font-family:Menlo,'DejaVu Sans Mono',consolas,'Courier New',monospace\"><span style=\"font-weight: bold\"> Optimizer params: </span><span style=\"color: #00af00; text-decoration-color: #00af00\">2</span> (12.00 B)\n",
       "</pre>\n"
      ],
      "text/plain": [
       "\u001b[1m Optimizer params: \u001b[0m\u001b[38;5;34m2\u001b[0m (12.00 B)\n"
      ]
     },
     "metadata": {},
     "output_type": "display_data"
    }
   ],
   "source": [
    "# load the pre-train model with ReLU activation\n",
    "model = load_model('simple_RNN_IMDB.h5')\n",
    "model.summary()"
   ]
  },
  {
   "cell_type": "code",
   "execution_count": 28,
   "id": "a68d4813",
   "metadata": {},
   "outputs": [
    {
     "data": {
      "text/plain": [
       "[array([[-0.34151098, -0.2516447 , -0.34071064, ..., -0.0046273 ,\n",
       "          0.32214308, -0.29963323],\n",
       "        [ 0.0339845 , -0.01565811, -0.01283335, ...,  0.00653502,\n",
       "         -0.0003998 ,  0.01542796],\n",
       "        [-0.0372102 ,  0.02516937, -0.066164  , ...,  0.04798841,\n",
       "          0.00660504, -0.03290522],\n",
       "        ...,\n",
       "        [-0.03776531,  0.05188649,  0.00281111, ...,  0.04540606,\n",
       "          0.05910542, -0.05391332],\n",
       "        [ 0.03045194, -0.05027735, -0.0205606 , ...,  0.01252876,\n",
       "          0.10150419,  0.05874006],\n",
       "        [-0.02302312, -0.12848897,  0.05181425, ..., -0.08941905,\n",
       "          0.03525782, -0.04937636]], dtype=float32),\n",
       " array([[ 0.08304927, -0.05711438, -0.10291588, ...,  0.12286177,\n",
       "          0.0079454 ,  0.08327311],\n",
       "        [ 0.0985577 ,  0.12992893, -0.13750792, ..., -0.07831097,\n",
       "         -0.09570839, -0.06446528],\n",
       "        [ 0.1003907 ,  0.02219189,  0.13698068, ...,  0.14209153,\n",
       "         -0.10931045, -0.02698413],\n",
       "        ...,\n",
       "        [-0.09323186, -0.06796295, -0.12188508, ...,  0.03904724,\n",
       "          0.12822148,  0.01117808],\n",
       "        [-0.00532975, -0.10237278, -0.01633341, ...,  0.05059059,\n",
       "         -0.03447986,  0.0995717 ],\n",
       "        [ 0.13049078, -0.01268392,  0.07777908, ...,  0.0760422 ,\n",
       "         -0.16269588, -0.11894177]], dtype=float32),\n",
       " array([[ 0.07122451,  0.10704838,  0.00159284, ..., -0.00809127,\n",
       "          0.08225822, -0.06017138],\n",
       "        [-0.03745836,  0.07109298,  0.10013569, ...,  0.02713405,\n",
       "         -0.05165045,  0.08708493],\n",
       "        [-0.16429758, -0.16385889,  0.14532387, ..., -0.04697741,\n",
       "          0.14541659, -0.08898093],\n",
       "        ...,\n",
       "        [-0.09894412, -0.05131422,  0.0014044 , ...,  0.06238028,\n",
       "          0.15190083, -0.01697797],\n",
       "        [-0.05001989, -0.14705521,  0.11614165, ...,  0.06950668,\n",
       "          0.06911644, -0.08591359],\n",
       "        [ 0.03911248, -0.06825686,  0.0004368 , ...,  0.00346199,\n",
       "         -0.00962331, -0.15775499]], dtype=float32),\n",
       " array([ 0.00176956, -0.00981339, -0.00287532, -0.00613844, -0.01572769,\n",
       "        -0.01273131, -0.01271047, -0.00801864,  0.00420572,  0.00139076,\n",
       "        -0.00234065, -0.01330154,  0.00258195, -0.00747181,  0.00605383,\n",
       "        -0.00407872,  0.00848841, -0.00477691, -0.00455048,  0.00041898,\n",
       "         0.00589446,  0.00201152,  0.00185269, -0.0060166 ,  0.01130268,\n",
       "        -0.01148626, -0.00789364,  0.00682865,  0.00422553,  0.01503414,\n",
       "        -0.0056303 ,  0.00595731, -0.01253765, -0.02127932,  0.01748858,\n",
       "         0.0025688 , -0.00735618, -0.00130251, -0.01635749,  0.01469316,\n",
       "        -0.00898687, -0.01178909,  0.00922798, -0.00764281,  0.01732852,\n",
       "         0.00349653, -0.00176106,  0.00375351,  0.01317637,  0.00120871,\n",
       "         0.00055488,  0.00830243, -0.01876103, -0.00803924,  0.00827427,\n",
       "        -0.00041196,  0.00850501,  0.00996942,  0.04246589, -0.00744583,\n",
       "        -0.00679049,  0.00998956, -0.01011439, -0.01082718, -0.01680524,\n",
       "         0.00101449,  0.00047881, -0.00541629,  0.00105195, -0.00835717,\n",
       "         0.00344057, -0.00069016,  0.00280151,  0.000782  , -0.00902567,\n",
       "        -0.00642269, -0.00145348,  0.00524685,  0.01948328, -0.00422056,\n",
       "         0.00875899, -0.01824923, -0.0212155 , -0.0099653 ,  0.00498526,\n",
       "         0.00777063,  0.00220123, -0.01239652, -0.00636799, -0.00306003,\n",
       "         0.01342543,  0.00310244,  0.01505283,  0.0004658 , -0.00235489,\n",
       "        -0.01424468, -0.00101545, -0.00961708,  0.00855043,  0.00430427,\n",
       "         0.0067394 , -0.02798417,  0.01992321, -0.00336554, -0.00381288,\n",
       "         0.00587553, -0.01732397,  0.00128021,  0.01393934, -0.00157935,\n",
       "        -0.00273191, -0.00182818, -0.00240687,  0.00481943, -0.00263785,\n",
       "         0.01824351, -0.02480994, -0.00228099,  0.00492566, -0.01225086,\n",
       "        -0.01762321, -0.01816889, -0.00081965,  0.00451901, -0.0031398 ,\n",
       "        -0.01054774,  0.00660518, -0.01190455], dtype=float32),\n",
       " array([[-0.39254126],\n",
       "        [ 0.16704707],\n",
       "        [-0.11792187],\n",
       "        [ 0.13580449],\n",
       "        [ 0.06476216],\n",
       "        [ 0.10657159],\n",
       "        [-0.15683323],\n",
       "        [ 0.18253013],\n",
       "        [ 0.13058804],\n",
       "        [-0.3794666 ],\n",
       "        [ 0.18117446],\n",
       "        [ 0.285301  ],\n",
       "        [-0.21360971],\n",
       "        [ 0.08414384],\n",
       "        [-0.05176218],\n",
       "        [ 0.01017244],\n",
       "        [ 0.5150176 ],\n",
       "        [-0.05653578],\n",
       "        [ 0.20566604],\n",
       "        [ 0.1993637 ],\n",
       "        [-0.34331024],\n",
       "        [ 0.07108925],\n",
       "        [ 0.05051066],\n",
       "        [-0.20273931],\n",
       "        [-0.12561063],\n",
       "        [ 0.0090645 ],\n",
       "        [-0.02882688],\n",
       "        [-0.06479691],\n",
       "        [ 0.09336054],\n",
       "        [-0.60365653],\n",
       "        [ 0.02018872],\n",
       "        [-0.09899796],\n",
       "        [ 0.3870098 ],\n",
       "        [ 0.30507553],\n",
       "        [-0.37002164],\n",
       "        [-0.14158891],\n",
       "        [-0.08296607],\n",
       "        [-0.21409254],\n",
       "        [-0.03998073],\n",
       "        [-0.27201042],\n",
       "        [-0.46380943],\n",
       "        [-0.17897049],\n",
       "        [-0.12808326],\n",
       "        [-0.18187559],\n",
       "        [ 0.1962082 ],\n",
       "        [-0.10979035],\n",
       "        [ 0.1165568 ],\n",
       "        [ 0.60212237],\n",
       "        [-0.56181043],\n",
       "        [ 0.07659107],\n",
       "        [ 0.0213116 ],\n",
       "        [ 0.06150234],\n",
       "        [ 0.04574683],\n",
       "        [ 0.16883612],\n",
       "        [ 0.05114246],\n",
       "        [ 0.13630912],\n",
       "        [-0.36050627],\n",
       "        [-0.01939102],\n",
       "        [ 0.5584017 ],\n",
       "        [ 0.12841004],\n",
       "        [-0.09259921],\n",
       "        [ 0.08851667],\n",
       "        [ 0.5195338 ],\n",
       "        [-0.38536346],\n",
       "        [ 0.23252587],\n",
       "        [-0.04544728],\n",
       "        [-0.13277683],\n",
       "        [-0.37578994],\n",
       "        [ 0.8661561 ],\n",
       "        [-0.01150833],\n",
       "        [ 0.11397462],\n",
       "        [-0.07971323],\n",
       "        [ 0.14911291],\n",
       "        [-0.4129139 ],\n",
       "        [ 0.09080313],\n",
       "        [ 0.17668277],\n",
       "        [ 0.18656829],\n",
       "        [-0.20198187],\n",
       "        [-0.24015099],\n",
       "        [-0.01932007],\n",
       "        [-0.00394226],\n",
       "        [-0.26709127],\n",
       "        [ 0.17073853],\n",
       "        [-0.06270031],\n",
       "        [-0.13997678],\n",
       "        [-0.39246693],\n",
       "        [-0.24088603],\n",
       "        [ 0.35155994],\n",
       "        [ 0.06965899],\n",
       "        [ 0.1741218 ],\n",
       "        [ 0.13758774],\n",
       "        [-0.08633045],\n",
       "        [-0.03182853],\n",
       "        [-0.44365212],\n",
       "        [-0.19293189],\n",
       "        [-0.16441675],\n",
       "        [-0.04547919],\n",
       "        [-0.21558778],\n",
       "        [ 0.01933772],\n",
       "        [ 0.48398498],\n",
       "        [ 0.42792603],\n",
       "        [ 0.01531644],\n",
       "        [-0.29204   ],\n",
       "        [ 0.38477093],\n",
       "        [ 0.631003  ],\n",
       "        [-0.23916507],\n",
       "        [ 0.6761105 ],\n",
       "        [ 0.03349208],\n",
       "        [ 0.11956643],\n",
       "        [ 0.11918462],\n",
       "        [ 0.04413289],\n",
       "        [ 0.15873748],\n",
       "        [-0.11388931],\n",
       "        [-0.05140158],\n",
       "        [-0.15941952],\n",
       "        [-0.33494142],\n",
       "        [-0.12421881],\n",
       "        [-0.11511403],\n",
       "        [ 0.15225798],\n",
       "        [ 0.02121786],\n",
       "        [-0.12365148],\n",
       "        [ 0.30431864],\n",
       "        [-0.14112937],\n",
       "        [ 0.34124187],\n",
       "        [-0.2783709 ],\n",
       "        [-0.12798184],\n",
       "        [-0.23622702],\n",
       "        [-0.06269827]], dtype=float32),\n",
       " array([-0.13036348], dtype=float32)]"
      ]
     },
     "execution_count": 28,
     "metadata": {},
     "output_type": "execute_result"
    }
   ],
   "source": [
    "model.get_weights()"
   ]
  },
  {
   "cell_type": "code",
   "execution_count": 29,
   "id": "a6c44786",
   "metadata": {},
   "outputs": [],
   "source": [
    "# step 2 : Helper functions\n",
    "# function to decode reviews\n",
    "def decode_review(encoded_review):\n",
    "    return ' '.join([reverse_word_index.get(i - 3, '?') for i in encoded_review])\n",
    "\n",
    "# Function to preprocess user input\n",
    "def preprocess_text(text):\n",
    "    words= text.lower().split()\n",
    "    encoded_review = [word_index.get(word, 2) + 3 for word in words]\n",
    "    padded_review = sequence.pad_sequences([encoded_review], maxlen=500)\n",
    "    return padded_review\n"
   ]
  },
  {
   "cell_type": "code",
   "execution_count": 30,
   "id": "0e533592",
   "metadata": {},
   "outputs": [],
   "source": [
    "### prediction function\n",
    "def predict_sentiment(review):\n",
    "    preprocessed_input = preprocess_text(review)\n",
    "\n",
    "    prediction = model.predict(preprocessed_input)\n",
    "    \n",
    "    sentiment = 'Positive' if prediction[0][0] > 0.5 else 'Negative'\n",
    "    return sentiment, prediction[0][0]"
   ]
  },
  {
   "cell_type": "code",
   "execution_count": 35,
   "id": "d64f7959",
   "metadata": {},
   "outputs": [
    {
     "name": "stdout",
     "output_type": "stream",
     "text": [
      "\u001b[1m1/1\u001b[0m \u001b[32m━━━━━━━━━━━━━━━━━━━━\u001b[0m\u001b[37m\u001b[0m \u001b[1m0s\u001b[0m 47ms/step\n",
      "Review : This movie was fantastic! The acting was great and the plot was thrilling.\n",
      "Sentiment : Positive\n",
      "prediction score : 0.6847370266914368\n"
     ]
    }
   ],
   "source": [
    "# step 4 : user input and prediction\n",
    "# Example review for prediciton\n",
    "example_review= \"This movie was fantastic! The acting was great and the plot was thrilling.\"\n",
    "sentiment,score = predict_sentiment(example_review)\n",
    "\n",
    "print(f\"Review : {example_review}\")\n",
    "print(f\"Sentiment : {sentiment}\")\n",
    "print(f\"prediction score : {score}\")"
   ]
  },
  {
   "cell_type": "code",
   "execution_count": null,
   "id": "0f4e6a4b",
   "metadata": {},
   "outputs": [],
   "source": []
  },
  {
   "cell_type": "code",
   "execution_count": null,
   "id": "cd9cdd06",
   "metadata": {},
   "outputs": [],
   "source": []
  }
 ],
 "metadata": {
  "kernelspec": {
   "display_name": "Python 3",
   "language": "python",
   "name": "python3"
  },
  "language_info": {
   "codemirror_mode": {
    "name": "ipython",
    "version": 3
   },
   "file_extension": ".py",
   "mimetype": "text/x-python",
   "name": "python",
   "nbconvert_exporter": "python",
   "pygments_lexer": "ipython3",
   "version": "3.11.0"
  }
 },
 "nbformat": 4,
 "nbformat_minor": 5
}
